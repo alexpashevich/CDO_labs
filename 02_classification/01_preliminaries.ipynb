{
 "cells": [
  {
   "cell_type": "markdown",
   "metadata": {},
   "source": [
    "<small><i>This notebook was create by Franck Iutzeler, Jerome Malick and Yann Vernaz (2016).</i></small>\n",
    "<!-- Credit (images) Jeffrey Keating Thompson. -->"
   ]
  },
  {
   "cell_type": "markdown",
   "metadata": {},
   "source": [
    "<center><img src=\"UGA.png\" width=\"30%\" height=\"30%\"></center>\n",
    "<center><h3>Master of Science in Industrial and Applied Mathematics (MSIAM)</h3></center>\n",
    "<hr>\n",
    "<center><h1>Convex and distributed optimization</h1></center>\n",
    "<center><h2>Part I - Preliminaries (3h + 3h home work)</h2></center>"
   ]
  },
  {
   "cell_type": "markdown",
   "metadata": {},
   "source": [
    "# Outline\n",
    "\n",
    "In these hands-on exercices we will be focusing on manipulating Resilient Distributed Datasets (RDDs). We introduce `map`, `mapValues`, `reduce`, `reduceByKey`, `aggregateByKey`, `filter` and `join` to transform, aggregate, and connect datasets. Each function can be stringed together to do more complex tasks.\n",
    "\n",
    "The first part deals with movieLens dataset. These datasets will be used to build a movie' recommendation system based on Non Negative Matrix Factorization (NMF) methodology (Part II). In this part we work together as __Q & A__ (Questions and Answers).\n",
    "\n",
    "The second part (data processing of textual dataset) is your home work to perform."
   ]
  },
  {
   "cell_type": "code",
   "execution_count": 1,
   "metadata": {
    "collapsed": false
   },
   "outputs": [],
   "source": [
    "# set up spark environment (Using Spark Local Mode)\n",
    "import findspark\n",
    "findspark.init()\n",
    "from pyspark import SparkContext\n",
    "sc = SparkContext(\"local[*]\")"
   ]
  },
  {
   "cell_type": "markdown",
   "metadata": {},
   "source": [
    "Every `SparkContext` launches a web UI, that displays useful information about the application. \n",
    "\n",
    "- A list of scheduler stages and tasks\n",
    "- A summary of RDD sizes and memory usage\n",
    "- Environmental information\n",
    "- Information about the running executors\n",
    "\n",
    "We can access this interface by simply opening http://localhost:4040 in a web browser."
   ]
  },
  {
   "cell_type": "markdown",
   "metadata": {},
   "source": [
    "# MovieLens dataset\n",
    "\n",
    "We will work with ratings from users on movies, collected by [MovieLens](https://movielens.org). This dataset is pre-loaded under `data/movielens/`. For quick testing of your code, you may want to use a smaller dataset under `data/movielens/medium`, which contains 1 million ratings from 6000 users on 4000 movies.\n",
    "\n",
    "We will use two files from this dataset: `ratings.dat` and `movies.dat`. All ratings are contained in the file `ratings.dat` and are in the following format:\n",
    "\n",
    "```\n",
    "UserID::MovieID::Rating::Timestamp\n",
    "```\n",
    "The movie information is in the file `movies.dat` and is in the following format:\n",
    "\n",
    "```\n",
    "MovieID::Title::Genres\n",
    "```"
   ]
  },
  {
   "cell_type": "markdown",
   "metadata": {
    "collapsed": true
   },
   "source": [
    "Let's start with the data. Loading the dataset:\n",
    "- [MovieLens 1M Dataset](http://grouplens.org/datasets/movielens/1m/ml-1m.zip) - 1 million ratings from 6000 users on 4000 movies.\n",
    "- [MovieLens 20M Dataset](http://grouplens.org/datasets/movielens/20m/ml-20m.zip) - 20 million ratings and 465,000 tag applications applied to 27,000 movies by 138,000 users. \n",
    "- [MovieLens latest Dataset](http://grouplens.org/datasets/movielens/20m/ml-20m.zip) - 22 million ratings and 580,000 tag applications applied to 33,000 movies by 240,000 users."
   ]
  },
  {
   "cell_type": "markdown",
   "metadata": {},
   "source": [
    "__Question 1__\n",
    ">Define two functions `parseRating` and `parseMovie` that parse a rating and a movie record."
   ]
  },
  {
   "cell_type": "code",
   "execution_count": 2,
   "metadata": {
    "collapsed": false
   },
   "outputs": [],
   "source": [
    "def parseRating(line):\n",
    "    \"\"\" Parse a rating record in MovieLens format UserID::MovieID::Rating::Timestamp\n",
    "    Args:\n",
    "        line (str): a line in the ratings dataset in the form of UserID::MovieID::Rating::Timestamp\n",
    "    Returns:\n",
    "        tuple: (UserID, MovieID, Rating)\n",
    "    \"\"\"\n",
    "    print(line)\n",
    "    fields = line.split(\"::\")\n",
    "    print(fields)\n",
    "    return int(fields[0]), int(fields[1]), float(fields[2])"
   ]
  },
  {
   "cell_type": "code",
   "execution_count": 3,
   "metadata": {
    "collapsed": true
   },
   "outputs": [],
   "source": [
    "def parseMovie(line):\n",
    "    \"\"\" Parse a movie record in MovieLens format MovieID::Title::Genres\n",
    "    Args:\n",
    "        entry (str): a line in the movies dataset in the form of MovieID::Title::Genres\n",
    "    Returns:\n",
    "        tuple: (MovieID, Title, Genres)\n",
    "    \"\"\"\n",
    "    fields = line.split(\"::\")\n",
    "    return int(fields[0]), fields[1], fields[2]"
   ]
  },
  {
   "cell_type": "markdown",
   "metadata": {},
   "source": [
    "__Question 2__\n",
    "\n",
    ">Create two RDDs by \n",
    "* reading a file with <a href=\"http://spark.apache.org/docs/latest/api/python/pyspark.html?highlight=textfile#pyspark.SparkContext.textFile\">`textFile`</a>\n",
    "* using the <a href=\"http://spark.apache.org/docs/latest/api/python/pyspark.html#pyspark.RDD.map\">`map`</a> transformation operation with the above defined functions to create them\n",
    "* assigning them a name with <a href=\"http://spark.apache.org/docs/latest/api/python/pyspark.html?highlight=setname#pyspark.RDD.setName\">`setName`</a> (e.g. `movies` and `ratings` respectively).\n",
    "\n"
   ]
  },
  {
   "cell_type": "code",
   "execution_count": 4,
   "metadata": {
    "collapsed": false
   },
   "outputs": [],
   "source": [
    "# path to MovieLens dataset\n",
    "movieLensHomeDir=\"../data/movielens/medium/\""
   ]
  },
  {
   "cell_type": "code",
   "execution_count": 5,
   "metadata": {
    "collapsed": false,
    "scrolled": false
   },
   "outputs": [
    {
     "data": {
      "text/plain": [
       "'movies'"
      ]
     },
     "execution_count": 5,
     "metadata": {},
     "output_type": "execute_result"
    }
   ],
   "source": [
    "# movies is an RDD of (movieID, title, genre)\n",
    "moviesRDD = sc.textFile(movieLensHomeDir + \"movies.dat\")\n",
    "moviesRDD = moviesRDD.map(parseMovie).setName('movies')\n",
    "moviesRDD.name()"
   ]
  },
  {
   "cell_type": "code",
   "execution_count": 6,
   "metadata": {
    "collapsed": false
   },
   "outputs": [
    {
     "data": {
      "text/plain": [
       "'ratings'"
      ]
     },
     "execution_count": 6,
     "metadata": {},
     "output_type": "execute_result"
    }
   ],
   "source": [
    "# ratings is an RDD of (userID, movieID, rating)\n",
    "ratingsRDD = sc.textFile(movieLensHomeDir + \"ratings.dat\")\n",
    "ratingsRDD = ratingsRDD.map(parseRating).setName('ratings')\n",
    "ratingsRDD.name()"
   ]
  },
  {
   "cell_type": "markdown",
   "metadata": {},
   "source": [
    "__Note__ - In these lines of code, we are creating the `moviesRDD` and `ratingsRDD` variables (technically RDDs) and we are pointing to files (on your local PC). Spark’s lazy nature means that it doesn’t automatically compile your code. Instead, it waits for some sort of action occurs that requires some calculation."
   ]
  },
  {
   "cell_type": "markdown",
   "metadata": {},
   "source": [
    "__Question 3__\n",
    "\n",
    ">Make your first transformation to get the number of ratings, distinct users and movies from the ratings RDD. (see the various native operations on <a href=\"http://spark.apache.org/docs/latest/api/python/pyspark.html?highlight=count#pyspark.RDD\">RDDs</a> in the doc) <br/>\n",
    ">Display several elements of each created RDDs."
   ]
  },
  {
   "cell_type": "code",
   "execution_count": 7,
   "metadata": {
    "collapsed": false,
    "scrolled": true
   },
   "outputs": [
    {
     "name": "stdout",
     "output_type": "stream",
     "text": [
      "numRatings = 1000209, numUsers = 6040, numMovies = 3883\n"
     ]
    }
   ],
   "source": [
    "numRatings = ratingsRDD.count()\n",
    "numUsers = ratingsRDD.map(lambda x: x[0]).distinct().count()\n",
    "numMovies  = moviesRDD.count()\n",
    "\n",
    "print(\"numRatings = %d, numUsers = %d, numMovies = %d\" % (numRatings, numUsers, numMovies))"
   ]
  },
  {
   "cell_type": "markdown",
   "metadata": {},
   "source": [
    "__Question 4__\n",
    "\n",
    ">Define two new RDDs containing only the movies for genre _Comedy_ and all movies that have _Comedy_ among other genres.<br/>\n",
    ">Use the <a href=\"http://spark.apache.org/docs/latest/api/python/pyspark.html#pyspark.RDD.filter\">`filter`</a> function which return a new RDD containing only the elements that satisfy a predicate.<br/>\n",
    ">Use the <a href=\"http://spark.apache.org/docs/latest/api/python/pyspark.html#pyspark.RDD.subtract\">`subtract`</a> function to retreive the movies that have  _Comedy_ in their genres but not only (That is the elements of the second RDD minus the ones in the first). Count them and exhibit a few of them.\n"
   ]
  },
  {
   "cell_type": "code",
   "execution_count": 8,
   "metadata": {
    "collapsed": false
   },
   "outputs": [],
   "source": [
    "onlyComedyMoviesRDD = moviesRDD.filter(lambda x: 'Comedy' == x[2])\n",
    "allComedyMoviesRDD = moviesRDD.filter(lambda x: 'Comedy' in x[2])\n",
    "notOnlyComedyMoviesRDD = allComedyMoviesRDD.subtract(onlyComedyMoviesRDD)"
   ]
  },
  {
   "cell_type": "markdown",
   "metadata": {},
   "source": [
    "__Question 5__\n",
    "\n",
    ">Investigate the different movies genres. Warning: Multiples genres should not be seen as new genres! For this:\n",
    "* separate the genres by delimiter '|' using  <a href=\"http://spark.apache.org/docs/latest/api/python/pyspark.html#pyspark.RDD.flatMap\">`flatMap`</a>\n",
    "* use the <a href=\"http://spark.apache.org/docs/latest/api/python/pyspark.html#pyspark.RDD.distinct\">`distinct`</a> function which return a new RDD containing the distinct elements in this RDD.\n",
    "\n",
    ">Count the number of different genres and print them.\n"
   ]
  },
  {
   "cell_type": "code",
   "execution_count": 9,
   "metadata": {
    "collapsed": false,
    "scrolled": false
   },
   "outputs": [
    {
     "name": "stdout",
     "output_type": "stream",
     "text": [
      "number of different genres = 18\n"
     ]
    }
   ],
   "source": [
    "nb_gen = moviesRDD.flatMap(lambda x: x[2].split(\"|\")).distinct().count()\n",
    "\n",
    "print('number of different genres = %d' % nb_gen)"
   ]
  },
  {
   "cell_type": "markdown",
   "metadata": {},
   "source": [
    "<!--\n",
    "<a href=\"http://spark.apache.org/docs/latest/api/python/pyspark.html#pyspark.RDD.reduce\">\n",
    "<img align=left src=\"files/images/pyspark-page23.svg\" width=500 height=500 />\n",
    "</a>\n",
    "-->"
   ]
  },
  {
   "cell_type": "markdown",
   "metadata": {},
   "source": [
    "__Question 6__\n",
    "\n",
    ">Get the average of all of the ratings. There are different solutions:\n",
    "* use the <a href=\"http://spark.apache.org/docs/latest/api/python/pyspark.html#pyspark.RDD.mean\">`mean`</a> built-in function\n",
    "* use the <a href=\"http://spark.apache.org/docs/latest/api/python/pyspark.html#pyspark.RDD.reduce\">`reduce`</a> function and define you own function for summing two ratings\n",
    "\n",
    ">Compare these approaches in terms of execution time by using `iPython`'s magic command <a href=\"https://ipython.org/ipython-doc/3/interactive/magics.html#magic-timeit\">`timeit`</a>.\n"
   ]
  },
  {
   "cell_type": "code",
   "execution_count": 10,
   "metadata": {
    "collapsed": false,
    "scrolled": true
   },
   "outputs": [
    {
     "name": "stdout",
     "output_type": "stream",
     "text": [
      "1 loop, best of 3: 15.2 s per loop\n",
      "1 loop, best of 3: 20.7 s per loop\n"
     ]
    }
   ],
   "source": [
    "%timeit ratingsRDD.map(lambda x: x[2]).mean()\n",
    "%timeit ratingsRDD.map(lambda x: x[2]).reduce(lambda x, y: x + y) / ratingsRDD.count()\n",
    "# print('ratings_mean = %f, avg_rating = %f' %(ratings_mean, avg_rating))"
   ]
  },
  {
   "cell_type": "markdown",
   "metadata": {},
   "source": [
    "\n",
    "__Question 7__\n",
    "\n",
    "> Get the average rating for each movie and user.<br/>\n"
   ]
  },
  {
   "cell_type": "code",
   "execution_count": 46,
   "metadata": {
    "collapsed": true
   },
   "outputs": [],
   "source": [
    "import numpy as np\n",
    "ratingsByUserIntermediateRDD = ratingsRDD.groupBy(lambda x: x[0]).mapValues(list) # group by userID\n",
    "ratingsByUserRDD = ratingsByUserIntermediateRDD.map(lambda x: (x[0], np.sum([x[1][i][2] for i in range(len(x[1]))]) \\\n",
    "                                                                                            / len(x[1])))\n",
    "ratingsByMovieIntermediateRDD = ratingsRDD.groupBy(lambda x: x[1]).mapValues(list) # group by movieID\n",
    "ratingsByMovieRDD = ratingsByMovieIntermediateRDD.map(lambda x: (x[0], np.sum([x[1][i][2] for i in range(len(x[1]))]) \\\n",
    "                                                                                            / len(x[1])))"
   ]
  },
  {
   "cell_type": "markdown",
   "metadata": {},
   "source": [
    "__Question 8__\n",
    "\n",
    "> Get top-$n$ movies with highest average ratings.<br/>\n",
    "> Get top-$n$ Movies with highest average ratings and more than 500 reviews.<br/>\n",
    "> Save results on Disk"
   ]
  },
  {
   "cell_type": "code",
   "execution_count": 60,
   "metadata": {
    "collapsed": false,
    "scrolled": false
   },
   "outputs": [
    {
     "name": "stdout",
     "output_type": "stream",
     "text": [
      "[(1830, 5.0), (3172, 5.0), (3280, 5.0), (3382, 5.0), (3656, 5.0), (787, 5.0), (989, 5.0), (3233, 5.0), (3607, 5.0), (3881, 5.0)]\n",
      "[(2019, 4.5605095541401273), (318, 4.554557700942973), (858, 4.524966261808367), (745, 4.5205479452054798), (50, 4.5171060011217046), (527, 4.510416666666667), (1148, 4.5079365079365079), (1198, 4.4777247414478918), (904, 4.4761904761904763), (260, 4.4536944165830823)]\n"
     ]
    }
   ],
   "source": [
    "import pickle\n",
    "\n",
    "n = 10\n",
    "takeNMovies = ratingsByMovieRDD.takeOrdered(n, key = lambda x: 1. / x[1])\n",
    "print(takeNMovies)\n",
    "\n",
    "ratingsByMovieInt500RevRDD = ratingsRDD.groupBy(lambda x: x[1]).mapValues(list).filter(lambda x: len(x[1]) >= 500)\n",
    "ratingsByMovie500RevRDD = ratingsByMovieInt500RevRDD.map(lambda x: (x[0], np.sum([x[1][i][2] \\\n",
    "                                                                            for i in range(len(x[1]))]) / len(x[1])))\n",
    "takeNMovies500Rev = ratingsByMovie500RevRDD.takeOrdered(n, key = lambda x: 1. / x[1])\n",
    "print(takeNMovies500Rev)\n",
    "type(takeNMovies500Rev)\n",
    "\n",
    "with open('takeNMovies.txt', 'w') as fp:\n",
    "    fp.write('\\n'.join('%s %s' % x for x in takeNMovies))\n",
    "    \n",
    "with open('takeNMovies500Rev.txt', 'w') as fp:\n",
    "    fp.write('\\n'.join('%s %s' % x for x in takeNMovies500Rev))"
   ]
  },
  {
   "cell_type": "markdown",
   "metadata": {},
   "source": [
    "__Question 9__\n",
    "\n",
    "> Compute the sparsity of the rating matrix."
   ]
  },
  {
   "cell_type": "code",
   "execution_count": 61,
   "metadata": {
    "collapsed": false
   },
   "outputs": [
    {
     "name": "stdout",
     "output_type": "stream",
     "text": [
      "sparsity = 0.042647\n"
     ]
    }
   ],
   "source": [
    "# we define sparsity as nb_nonzero_elems / nb_elems\n",
    "nb_elems = numMovies * numUsers\n",
    "nb_nonzero_elems = numRatings\n",
    "sparsity = 1. * nb_nonzero_elems / nb_elems\n",
    "\n",
    "print('sparsity = %f' % sparsity)"
   ]
  },
  {
   "cell_type": "markdown",
   "metadata": {},
   "source": [
    "__Question 10__\n",
    "\n",
    ">Get the rating distribution and plot histogram."
   ]
  },
  {
   "cell_type": "code",
   "execution_count": 67,
   "metadata": {
    "collapsed": false
   },
   "outputs": [
    {
     "data": {
      "image/png": "[encoded data removed]",
      "text/plain": [
       "<matplotlib.figure.Figure at 0x1120f9518>"
      ]
     },
     "metadata": {},
     "output_type": "display_data"
    }
   ],
   "source": [
    "import matplotlib.pyplot as plt\n",
    "\n",
    "ratingDistrib = ratingsRDD.groupBy(lambda x: x[2]).map(lambda x: (x[0], len(x[1]))).sortByKey().collect()\n",
    "x = []\n",
    "y = []\n",
    "for rating in ratingDistrib:\n",
    "    x.append(rating[0])\n",
    "    y.append(rating[1])\n",
    "\n",
    "plt.bar(x, y)\n",
    "plt.show()"
   ]
  },
  {
   "cell_type": "markdown",
   "metadata": {
    "collapsed": true
   },
   "source": [
    "# LibSVM dataset (home work)\n",
    "\n",
    "\n",
    "__Question 1__\n",
    "\n",
    "> Examine the output of MLUtils's <a href=\"http://spark.apache.org/docs/latest/api/python/pyspark.mllib.html#pyspark.mllib.util.MLUtils.loadLibSVMFile\">`loadLibSVMFile`</a> routine on the supervised classification datasets below.\n",
    "\n",
    "The elements of the produced RDD have the form of <a href=\"https://spark.apache.org/docs/latest/api/python/pyspark.mllib.html#pyspark.mllib.regression.LabeledPoint\">`LabeledPoints`</a> composed of a label `example.label` corresponding to the class (+1 or -1) and a feature vector `example.features` generally encoded as a <a href=\"https://spark.apache.org/docs/latest/api/python/pyspark.mllib.html#pyspark.mllib.linalg.SparseVector\">`SparseVector`</a>."
   ]
  },
  {
   "cell_type": "code",
   "execution_count": 68,
   "metadata": {
    "collapsed": true
   },
   "outputs": [],
   "source": [
    "# path to ionosphere LibSVM\n",
    "LibSVMHomeDir=\"../data/LibSVM/\"\n",
    "LibName=\"ionosphere.txt\"\n",
    "#LibName=\"rcv1_train.binary\""
   ]
  },
  {
   "cell_type": "code",
   "execution_count": 69,
   "metadata": {
    "collapsed": false
   },
   "outputs": [],
   "source": [
    "from pyspark.mllib.util import MLUtils\n",
    "data = MLUtils.loadLibSVMFile(sc, LibSVMHomeDir + LibName).setName(\"LibSVM\")"
   ]
  },
  {
   "cell_type": "code",
   "execution_count": 93,
   "metadata": {
    "collapsed": false
   },
   "outputs": [
    {
     "data": {
      "text/plain": [
       "SparseVector(34, {0: 1.0, 2: 0.9954, 3: -0.0589, 4: 0.8524, 5: 0.0231, 6: 0.834, 7: -0.3771, 8: 1.0, 9: 0.0376, 10: 0.8524, 11: -0.1776, 12: 0.5976, 13: -0.4494, 14: 0.6054, 15: -0.3822, 16: 0.8436, 17: -0.3854, 18: 0.5821, 19: -0.3219, 20: 0.5697, 21: -0.2967, 22: 0.3695, 23: -0.4736, 24: 0.5681, 25: -0.5117, 26: 0.4108, 27: -0.4617, 28: 0.2127, 29: -0.3409, 30: 0.4227, 31: -0.5449, 32: 0.1864, 33: -0.453})"
      ]
     },
     "execution_count": 93,
     "metadata": {},
     "output_type": "execute_result"
    }
   ],
   "source": [
    "arr = data.take(1)[0]\n",
    "arr.features"
   ]
  },
  {
   "cell_type": "markdown",
   "metadata": {},
   "source": [
    "__Question 2__\n",
    "\n",
    ">Count the the number of examples, the number of features, and the sparsity."
   ]
  },
  {
   "cell_type": "code",
   "execution_count": 98,
   "metadata": {
    "collapsed": false,
    "scrolled": false
   },
   "outputs": [
    {
     "name": "stdout",
     "output_type": "stream",
     "text": [
      "nb_examples = 351, nb_features = 34, sparsity = 0.884113\n"
     ]
    }
   ],
   "source": [
    "nb_examples = data.count()\n",
    "nb_features = len(data.first().features)\n",
    "val = data.map(lambda x: x.features.numNonzeros()).reduce(lambda x, y: x + y)\n",
    "sparsity = 1 - 1. * val / (nb_examples * nb_features)\n",
    "\n",
    "print('nb_examples = %d, nb_features = %d, sparsity = %f' % (nb_examples, nb_features, sparsity))"
   ]
  },
  {
   "cell_type": "markdown",
   "metadata": {},
   "source": [
    "### __Question 3__\n",
    "\n",
    ">Create your own LibSVM Reader file (you can use the number of features to simplify writing)"
   ]
  },
  {
   "cell_type": "code",
   "execution_count": 96,
   "metadata": {
    "collapsed": false
   },
   "outputs": [
    {
     "data": {
      "text/plain": [
       "10551"
      ]
     },
     "execution_count": 96,
     "metadata": {},
     "output_type": "execute_result"
    }
   ],
   "source": []
  },
  {
   "cell_type": "code",
   "execution_count": null,
   "metadata": {
    "collapsed": true
   },
   "outputs": [],
   "source": []
  }
 ],
 "metadata": {
  "kernelspec": {
   "display_name": "Python 3",
   "language": "python",
   "name": "python3"
  },
  "language_info": {
   "codemirror_mode": {
    "name": "ipython",
    "version": 3
   },
   "file_extension": ".py",
   "mimetype": "text/x-python",
   "name": "python",
   "nbconvert_exporter": "python",
   "pygments_lexer": "ipython3",
   "version": "3.5.2"
  }
 },
 "nbformat": 4,
 "nbformat_minor": 0
}
